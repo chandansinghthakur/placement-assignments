{
 "cells": [
  {
   "attachments": {
    "Q.2.png": {
     "image/png": "[encoded data removed]"
    }
   },
   "cell_type": "markdown",
   "id": "8bd97871",
   "metadata": {},
   "source": [
    "![Q.2.png](attachment:Q.2.png)"
   ]
  },
  {
   "cell_type": "markdown",
   "id": "efff9d7c",
   "metadata": {},
   "source": [
    "# Abstract Class"
   ]
  },
  {
   "cell_type": "markdown",
   "id": "ed75611a",
   "metadata": {},
   "source": [
    "An abstract class can be considered as a blueprint for other classes.\n",
    "\n",
    "A class which contains one or more abstract method is called Abstract class."
   ]
  },
  {
   "cell_type": "code",
   "execution_count": 22,
   "id": "8f78e56c",
   "metadata": {},
   "outputs": [],
   "source": [
    "from abc import ABC, abstractmethod\n",
    "\n",
    "class Shape(ABC):\n",
    "    @abstractmethod\n",
    "    def printarea(self):\n",
    "        pass\n",
    "    \n",
    "class Triangle(Shape):\n",
    "    def __init__(self,base, height):\n",
    "        self.base = base\n",
    "        self.height = height\n",
    "    \n",
    "    def printarea(self):\n",
    "        return f\"Area = {self.base*self.height*0.5}\"\n",
    "    \n",
    "class Rectangle(Shape):\n",
    "    def __init__(self, length, breadth):\n",
    "        self.length= length\n",
    "        self.breadth= breadth\n",
    "        \n",
    "    def printarea(self):\n",
    "        return f\"area = {self.length*self.breadth}\"\n",
    "    "
   ]
  },
  {
   "cell_type": "code",
   "execution_count": 23,
   "id": "b9971bd3",
   "metadata": {},
   "outputs": [
    {
     "name": "stdout",
     "output_type": "stream",
     "text": [
      "Area = 100.0\n"
     ]
    }
   ],
   "source": [
    "a = Triangle(10,20)\n",
    "a.printarea()"
   ]
  },
  {
   "cell_type": "code",
   "execution_count": 24,
   "id": "a71c447a",
   "metadata": {},
   "outputs": [
    {
     "data": {
      "text/plain": [
       "'area = 200'"
      ]
     },
     "execution_count": 24,
     "metadata": {},
     "output_type": "execute_result"
    }
   ],
   "source": [
    "b= Rectangle(10,20)\n",
    "b.printarea()"
   ]
  },
  {
   "cell_type": "markdown",
   "id": "1555b4a4",
   "metadata": {},
   "source": [
    "# Multiple Inheritance\n",
    "when a class is derived from more than one base class it is called multiple inheritance.\n",
    "The derived class inherits all the features of base class."
   ]
  },
  {
   "cell_type": "code",
   "execution_count": 69,
   "id": "ba137b11",
   "metadata": {},
   "outputs": [],
   "source": [
    "# defining a parent class\n",
    "class Class1():\n",
    "    def func(self):\n",
    "        print(\"i am in class 1\")\n",
    "        \n",
    "# defining a child class and inherits all the features of class1       \n",
    "class Class2(Class1):\n",
    "    def func(self):\n",
    "        print(\"i am in class 2\")\n",
    "        super().func()\n",
    "        \n",
    "# defining an another child class and inherits all the features of class1        \n",
    "class Class3(Class1):\n",
    "    def func(Self):\n",
    "        print(\"i m in class 3\")\n",
    "        super().func()\n",
    "        \n",
    "# defining a class which can inherits all the features of class2 and class3\n",
    "class Class4(Class2, Class3):\n",
    "    def func(self):\n",
    "        print(\"i m in class 4\")\n",
    "        super().func()"
   ]
  },
  {
   "cell_type": "code",
   "execution_count": 70,
   "id": "686cb6b5",
   "metadata": {},
   "outputs": [],
   "source": [
    "# an instance is created for class4\n",
    "obj = Class4()"
   ]
  },
  {
   "cell_type": "code",
   "execution_count": 71,
   "id": "74486aa5",
   "metadata": {},
   "outputs": [
    {
     "name": "stdout",
     "output_type": "stream",
     "text": [
      "i m in class 4\n",
      "i am in class 2\n",
      "i m in class 3\n",
      "i am in class 1\n"
     ]
    }
   ],
   "source": [
    "# calling the instance to execute\n",
    "obj.func()"
   ]
  },
  {
   "cell_type": "markdown",
   "id": "9517e1b1",
   "metadata": {},
   "source": [
    "# Decorators\n",
    "Decorators are used to modify the behaviour of function or class.\n",
    "In decorators, functions are taken as the argument into another function and then called inside a wrapper function."
   ]
  },
  {
   "cell_type": "code",
   "execution_count": 78,
   "id": "7e5398a1",
   "metadata": {},
   "outputs": [
    {
     "name": "stdout",
     "output_type": "stream",
     "text": [
      "Executing function .............\n",
      "5\n",
      "8\n",
      "The sum of 5 and 8 is 13\n",
      "Function executed successfully.\n"
     ]
    }
   ],
   "source": [
    "# defining a decorator\n",
    "def dec1(func):\n",
    "    # execute is a wrapper function in which argument is called.\n",
    "    def execute():\n",
    "        print(\"Executing function .............\")\n",
    "        func() # calling the actual function now inside the wrapper function.\n",
    "        print(\"Function executed successfully.\")\n",
    "    return execute\n",
    "\n",
    "@dec1 # this is used as a decorator to control its behaviour\n",
    "def func2(): # defining a function which is to be called inside a wrapper function.\n",
    "#     a = int(input(\"enter the first numbers : \"))\n",
    "#     b = int(input(\"enter the second number : \"))\n",
    "    a=5\n",
    "    b=8\n",
    "    c=a+b\n",
    "    print(a)\n",
    "    print(b)\n",
    "    print(f\"The sum of {a} and {b} is {c}\")\n",
    "\n",
    "# calling the function for execution\n",
    "func2()"
   ]
  },
  {
   "cell_type": "code",
   "execution_count": null,
   "id": "64792399",
   "metadata": {},
   "outputs": [],
   "source": []
  },
  {
   "cell_type": "code",
   "execution_count": null,
   "id": "7f4ce12e",
   "metadata": {},
   "outputs": [],
   "source": []
  }
 ],
 "metadata": {
  "kernelspec": {
   "display_name": "Python 3 (ipykernel)",
   "language": "python",
   "name": "python3"
  },
  "language_info": {
   "codemirror_mode": {
    "name": "ipython",
    "version": 3
   },
   "file_extension": ".py",
   "mimetype": "text/x-python",
   "name": "python",
   "nbconvert_exporter": "python",
   "pygments_lexer": "ipython3",
   "version": "3.9.7"
  }
 },
 "nbformat": 4,
 "nbformat_minor": 5
}
